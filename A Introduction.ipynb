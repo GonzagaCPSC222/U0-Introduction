{
 "cells": [
  {
   "cell_type": "markdown",
   "metadata": {},
   "source": [
    "# [CPSC 222](https://github.com/GonzagaCPSC222) Intro to Data Science\n",
    "[Gonzaga University](https://www.gonzaga.edu/)\n",
    "\n",
    "[Gina Sprint](http://cs.gonzaga.edu/faculty/sprint/)\n",
    "\n",
    "# Introduction\n",
    "What are our learning objectives for this lesson?\n",
    "* Understand the general field of data science\n",
    "\n",
    "Content used in this lesson is based upon information in the following sources:\n",
    "* Dr. Shawn Bowers' Data Mining notes"
   ]
  },
  {
   "cell_type": "markdown",
   "metadata": {},
   "source": [
    "## Warm up Task(s)\n",
    "Welcome to class! I'm really glad you are here\n",
    "* Task #1: If you are going to use a lab machine, please log into it now\n",
    "* Task #2: Make sure you can access Canvas: https://canvas.gonzaga.edu\n",
    "* Task #3: Meet your neighbor and see how they are doing 😀\n",
    "\n",
    "## Today\n",
    "1. Class is being Zoom recorded\n",
    "1. Attendance/ice breaker -- with prizes!! 🎖️\n",
    "1. Class resources overview\n",
    "1. BREAK\n",
    "1. What is Data Science?\n",
    "1. TODO: Before next class\n",
    "    1. Make a [Github](https://github.com/) account, install [Git](https://git-scm.com/downloads), install [Anaconda Python Distribution](https://www.anaconda.com/products/individual), and install [VS Code](https://code.visualstudio.com/) before next class\n",
    "    1. See [U0 Introduction Lesson B Environment Setup](https://github.com/GonzagaCPSC222/U0-Introduction/blob/master/B%20Environment%20Setup.ipynb) for details on how to do this\n",
    "    1. Please complete the welcome questionnaire in Canvas"
   ]
  },
  {
   "cell_type": "markdown",
   "metadata": {},
   "source": [
    "## What is Data Science?\n",
    "Data science studies how to use data to solve problems and answer research questions. It constitutes all parts of a data-intensive workflow, from the beginning (e.g., data collection, data preparation), through the middle (e.g., data mining, supervised/unsupervised machine learning) to the end (e.g., presenting insights and/or deploying a software system). It helps to think about data science as science, meaning it uses the scientific method we are all familiar with (1. observe/question, 2. research, 3. form a hypothesis, 4. test with experiment, 5. analyze data, 6. report conclusions), but with a focus on data:\n",
    "1. Identify: pick something you are curious about and collect data about it\n",
    "1. Understand: get familiar with your data and its \"bigger picture\"\n",
    "1. Process: prepare your data for analyses \n",
    "1. Analyze: look closely at the data to discover previously unknown patterns, trends, associations, groups, etc\n",
    "1. Conclude: draw valid conclusions and discuss potential action items\n",
    "1. Communicate: share your knowledge with your targeted audience\n",
    "\n",
    "What are examples of data in the real-world and how is that data being analyzed?\n",
    "* Medical data collected from electronic health records, physician/nurse notes, etc.\n",
    "    * Analyzed to determine health risk factors, onset of early disease, insurance billing, etc.\n",
    "* Time series data collected from sensors installed in the environment or worn on the body (wearables)\n",
    "    * Analyzed to detect physical activity, daily behavior, changes in behavior over time, etc.\n",
    "* Social media data collected from social networks, posting, news feeds, etc.\n",
    "    * Analyzed to suggest friends, deliver user-specific content, recommend products, target advertising, etc.\n",
    "* Financial data collected from banking transactions, trading, etc.\n",
    "    * Analyzed to project stock market trends, recommend certain investments, determine credit scores, etc.\n",
    "* Many others"
   ]
  },
  {
   "cell_type": "markdown",
   "metadata": {},
   "source": [
    "What do Data Scientists do? Data scientists spend a surprising amount of time preparing data for analysis. In fact, a survey was conducted found that cleaning big data is the most time-consuming and least enjoyable task data scientists do!\n",
    "<img src=\"https://thumbor.forbes.com/thumbor/960x0/https%3A%2F%2Fblogs-images.forbes.com%2Fgilpress%2Ffiles%2F2016%2F03%2FTime-1200x511.jpg\" width=\"700\">\n",
    "\n",
    "(image from [https://thumbor.forbes.com/thumbor/960x0/https%3A%2F%2Fblogs-images.forbes.com%2Fgilpress%2Ffiles%2F2016%2F03%2FTime-1200x511.jpg](https://thumbor.forbes.com/thumbor/960x0/https%3A%2F%2Fblogs-images.forbes.com%2Fgilpress%2Ffiles%2F2016%2F03%2FTime-1200x511.jpg))\n",
    "\n",
    "Some topics related to data science that we will cover in this class (at a high level) includes the following:\n",
    "* [Data collection](https://en.wikipedia.org/wiki/Data_collection): Designing data collection protocols and executing the protocols to collect data to be used for analysis.\n",
    "* [Data representation/cleaning/munging/wrangling](https://en.wikipedia.org/wiki/Data_wrangling): Describes the overall process of manipulating unstructured and/or messy data into a structured and clean form.\n",
    "* [Data mining](https://en.wikipedia.org/wiki/Data_mining): The computational process of discovering patterns in large data sets involving methods at the intersection of artificial intelligence, machine learning, statistics, and database systems. The overall goal of the data mining process is to extract information from a data set and transform it into an understandable structure for further use.\n",
    "* [Machine learning](https://en.wikipedia.org/wiki/Machine_learning): Provides computers with the ability to learn without being explicitly programmed. Machine learning focuses on the development of computer programs that can change when exposed to new data."
   ]
  },
  {
   "cell_type": "markdown",
   "metadata": {},
   "source": [
    "## Python\n",
    "In this class, we are going to learn and use the Python programming language for all of our coding assignments. According to [IEEE Spectrum](https://spectrum.ieee.org/top-programming-languages-2022), Python is the top programming language and according to [KDNuggets](https://www.kdnuggets.com/2020/01/python-preferred-languages-data-science.html), Python is the most popular programming language for analytics, data mining, and data science (followed by R). \n",
    "\n",
    "### Why Use Programming for Data Science?\n",
    "* Faster than analyzing by hand (especially for large data)!\n",
    "* Reuse other data, same data different params/settings\n",
    "* Enables a form of “repeatability” (and ideally, transparency)\n",
    "    * can repeat “experiment” and get the same result\n",
    "    * no “magic” steps\n",
    "* Still important, however, to write down steps (log)\n",
    "    * ideally, someone should be able to take your data, program, and description of steps, rerun everything, and get the same results!\n",
    "\n",
    "### Why Use Python for Data Science?\n",
    "Advantages of learning Python include:\n",
    "1. Easy to learn\n",
    "1. Free, open source\n",
    "1. Support for the life cycle of software (prototyping, development, testing, release, maintenance)\n",
    "1. Many available libraries, especially for data analytics:\n",
    "    1. [numpy](http://www.numpy.org/)\n",
    "    1. [scipy](https://www.scipy.org/)\n",
    "    1. [sci-kits](https://scikits.appspot.com/) (especially [sci-kit learn](http://scikit-learn.org/stable/) for machine learning)\n",
    "    1. [pandas](http://pandas.pydata.org/)\n",
    "    1. [Plotting libraries](https://wiki.python.org/moin/NumericAndScientific/Plotting), such as [matplotlib](http://matplotlib.org/) and [Plotly](https://plot.ly/)\n",
    "1. Many supported GUI backends\n",
    "1. LOTS of community support/development online\n",
    "1. Cross platform support\n",
    "    * Python is an interpreted language, which means it can run on any system with the Python interpreter installed; however, this is also a disadvantage in some ways, meaning Python code can be slow to run, compared with compiled languages like C\n",
    "    \n",
    "### Python Distribution and IDE\n",
    "We will use the [Anaconda 3](https://www.anaconda.com/products/individual) Python 3 distribution. This is a free distribution of Python version 3 available for Windows, OS X, and Linux. You can download Anaconda3 [here](https://www.anaconda.com/products/individual) and view the installation instructions [here](https://docs.anaconda.com/anaconda/install/).\n",
    "\n",
    "Anaconda comes packaged with an easy-to-use integrated development environment (IDE) called [Spyder](http://spyder-ide.org/) (Scientific Python Development Environment) and (optionally) [Visual Studio Code](https://code.visualstudio.com/). I encourage you to use Spyder or Visual Studio Code (or one of the following [Anaconda-supported IDEs](https://support.anaconda.com/customer/en/portal/articles/2880333-using-an-ide-with-anaconda) to develop your Python code)."
   ]
  },
  {
   "cell_type": "markdown",
   "metadata": {},
   "source": [
    "## Datasets\n",
    "Our focus is “Tabular” Data ... aka Relational or Structured\n",
    "* Data is organized into tables (rows and columns)\n",
    "\n",
    "Age |Gender |Impressions |Clicks |SignedIn\n",
    "-|-|-|-|-|\n",
    "59 |1 |4 |0 |1\n",
    "19 |0 |5 |0 |1\n",
    "44 |1 |5 |0 |1\n",
    "28 |1 |4 |0 |1\n",
    "61 |1 |10 |1 |1\n",
    "0 |0 |3 |1 |0\n",
    "\n",
    "* You are already familiar with tabular data! Data in an Excel spreadsheet is structured in a tables\n",
    "\n",
    "<img src=\"https://www.excel-easy.com/examples/images/online/new-sheet-view.png\" width=\"400\">\n",
    "\n",
    "(image from https://www.excel-easy.com/examples/images/online/new-sheet-view.png)\n",
    "\n",
    "* Each row is an \"instance\"\n",
    "    * aka \"example\", \"record\", or \"object\"\n",
    "* Each column is an “attribute” (of the instance)\n",
    "    * aka \"variables\" or \"fields\"\n",
    "* A \"dataset\" is a (sample) set of instances\n",
    "    * from the \"universe of objects\" (universe of instances)\n",
    "\n",
    "This is a sample of (simulated) daily website click stream data (Example from \"Doing Data Science\", Schutt and O’Neil)\n",
    "* Each row contains attribute values for one user\n",
    "* User’s age, gender (0=female, 1=male), ads shown, ads clicked, and if\n",
    "logged in (0=no, 1=yes)"
   ]
  }
 ],
 "metadata": {
  "anaconda-cloud": {},
  "kernelspec": {
   "display_name": "Python 3 (ipykernel)",
   "language": "python",
   "name": "python3"
  },
  "language_info": {
   "codemirror_mode": {
    "name": "ipython",
    "version": 3
   },
   "file_extension": ".py",
   "mimetype": "text/x-python",
   "name": "python",
   "nbconvert_exporter": "python",
   "pygments_lexer": "ipython3",
   "version": "3.9.7"
  }
 },
 "nbformat": 4,
 "nbformat_minor": 4
}
